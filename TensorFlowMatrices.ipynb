{
 "cells": [
  {
   "cell_type": "code",
   "execution_count": 4,
   "id": "f06db2aa",
   "metadata": {},
   "outputs": [
    {
     "name": "stdout",
     "output_type": "stream",
     "text": [
      "2.13.0 1.2.5 1.24.3\n"
     ]
    }
   ],
   "source": [
    "import tensorflow as tf\n",
    "#!pip install opencv\n",
    "# import opencv\n",
    "import os\n",
    "import pandas as pd\n",
    "import numpy as np\n",
    "print(tf.__version__, pd.__version__, np.__version__)"
   ]
  },
  {
   "cell_type": "code",
   "execution_count": 78,
   "id": "e657be5e",
   "metadata": {},
   "outputs": [
    {
     "name": "stdout",
     "output_type": "stream",
     "text": [
      "tf.Tensor(\n",
      "[[4. 0. 0.]\n",
      " [0. 4. 0.]\n",
      " [0. 0. 4.]], shape=(3, 3), dtype=float32) <tf.Variable 'Variable:0' shape=(1,) dtype=float32, numpy=array([4.], dtype=float32)> tf.Tensor([[5]], shape=(1, 1), dtype=int32) tf.Tensor(\n",
      "[[ 1.  2.  3.]\n",
      " [ 4.  5.  6.]\n",
      " [ 8. 10.  7.]], shape=(3, 3), dtype=float32) tf.Tensor(\n",
      "[[1. 1. 1.]\n",
      " [1. 1. 1.]\n",
      " [1. 1. 1.]], shape=(3, 3), dtype=float32) tf.Tensor(\n",
      "[[ 1.  2.  3.]\n",
      " [ 4.  5.  6.]\n",
      " [ 8. 10.  7.]], shape=(3, 3), dtype=float32) tf.Tensor(\n",
      "[[0. 0. 0.]\n",
      " [0. 0. 0.]\n",
      " [0. 0. 0.]], shape=(3, 3), dtype=float32) tf.Tensor(\n",
      "[[1. 0. 0.]\n",
      " [0. 1. 0.]\n",
      " [0. 0. 1.]], shape=(3, 3), dtype=float32)\n"
     ]
    },
    {
     "data": {
      "text/plain": [
       "<tf.Tensor: shape=(), dtype=int32, numpy=3>"
      ]
     },
     "execution_count": 78,
     "metadata": {},
     "output_type": "execute_result"
    }
   ],
   "source": [
    "###################### CREATING alL kinds of Matrix in Tensorff\\low @@@@@@@@@@@@@@@\n",
    "\n",
    "v1 = v = tf.Variable([4], dtype='float32')\n",
    "mat0=tf.constant([[5]]) ######## 1 by 1 Matrix\n",
    "\n",
    "mat1=tf.constant([[1,2,3], [4,5,6], [8,10,7]] ,dtype='float32')  ####### 2 by 2 Matrix \n",
    "\n",
    "mat2=tf.zeros((3,3))   ########## Three by Three Zeros Matrix\n",
    "\n",
    "\n",
    "mat4=tf.ones((3,3))  ###############  ONEs ALL OVER Square Matrix @@@@@@@@@@@@@@@@@@@@@\n",
    "\n",
    "mat3=tf.eye(3)       ############## 3 by 3 IDNETITY MATRIX HAVE ONES ACROSS DIAGONAL and Zeros ELSE Where @@@@@@@@@@@@\n",
    "\n",
    "mat6=tf.eye(3)*4  ######## SCALR Square Matrix idenity matrix multiplied by Scalar Lambda =4 @@@@@@@ \n",
    "\n",
    "print (mat6,v1, mat0, mat1, mat4, mat1, mat2, mat3)  ############ PRINT all MATRICES ABOVE @@@@@@@@@@@@@@@\n",
    "\n",
    "############## HOW to COMPUTE RANK of a MATRIX USING Tensorflow @@@@@@@@@@@@@@@@@@\n",
    "\n",
    "tf.linalg.matrix_rank(mat6)\n",
    "\n",
    "############## COMPUTE the DETERMINAVT of a MATRIX Using Tensorflow @@@@@@@@@@@@@@@\n",
    "#tf.linalg.det(mat1)"
   ]
  },
  {
   "cell_type": "code",
   "execution_count": 79,
   "id": "6a058eaf",
   "metadata": {},
   "outputs": [
    {
     "name": "stdout",
     "output_type": "stream",
     "text": [
      "tf.Tensor([[5]], shape=(1, 1), dtype=int32)\n",
      "tf.Tensor(\n",
      "[[ 2.  4.  5.]\n",
      " [10.  5.  8.]\n",
      " [ 8.  9. 20.]], shape=(3, 3), dtype=float32)\n",
      "tf.Tensor(\n",
      "[[0. 0. 0. 0. 0.]\n",
      " [0. 0. 0. 0. 0.]\n",
      " [0. 0. 0. 0. 0.]\n",
      " [0. 0. 0. 0. 0.]\n",
      " [0. 0. 0. 0. 0.]], shape=(5, 5), dtype=float32)\n",
      "tf.Tensor(\n",
      "[[1. 0. 0. 0. 0.]\n",
      " [0. 1. 0. 0. 0.]\n",
      " [0. 0. 1. 0. 0.]\n",
      " [0. 0. 0. 1. 0.]\n",
      " [0. 0. 0. 0. 1.]], shape=(5, 5), dtype=float32)\n"
     ]
    }
   ],
   "source": [
    "mat4= tf.constant([[2,4,5], [10,5,8],[8,9,20]],dtype='float32') ### Matrix of rAnk n=3\n",
    "ma5= tf.zeros((5,5)) ########### zero matrix of rank =5\n",
    "ma6= tf.eye(5,5)  ############## Idenitty matrix \n",
    "\n",
    "ma7= tf.constant([[5]])  ############## Idenitty matrix \n",
    "\n",
    "print(ma7)\n",
    "\n",
    "\n",
    "print(mat4)\n",
    "print(ma5)\n",
    "print(ma6)"
   ]
  },
  {
   "cell_type": "code",
   "execution_count": 87,
   "id": "fa329e7a",
   "metadata": {},
   "outputs": [
    {
     "name": "stdout",
     "output_type": "stream",
     "text": [
      "tf.Tensor(15.000001, shape=(), dtype=float32) tf.Tensor(3, shape=(), dtype=int32)\n",
      "tf.Tensor(\n",
      "[[ 1.  4.  8.]\n",
      " [ 2.  5. 10.]\n",
      " [ 3.  6.  7.]], shape=(3, 3), dtype=float32)\n",
      "tf.Tensor(\n",
      "[[-1.6666667   1.0666667  -0.20000006]\n",
      " [ 1.3333334  -1.1333334   0.40000004]\n",
      " [ 0.          0.4        -0.2       ]], shape=(3, 3), dtype=float32)\n"
     ]
    }
   ],
   "source": [
    "rank1=tf.linalg.matrix_rank(mat6)\n",
    "#tf.matrix_determinant(mat1)\n",
    "det1=tf.linalg.det(mat1)\n",
    "#nmat8= np.eye(mat1)\n",
    "print(det1, rank1)\n",
    "#tf.linalg.det(input=nmat8,name=None)\n",
    "\n",
    "#tf.linalg.det(mat1)\n",
    "\n",
    "mat9 = tf.transpose(mat1)\n",
    "print(mat9)\n",
    "\n",
    "mat10 = tf.linalg.inv(mat1)\n",
    "print(mat10)"
   ]
  },
  {
   "cell_type": "code",
   "execution_count": null,
   "id": "6af014ea",
   "metadata": {
    "collapsed": true
   },
   "outputs": [],
   "source": []
  }
 ],
 "metadata": {
  "kernelspec": {
   "display_name": "Python 3 (ipykernel)",
   "language": "python",
   "name": "python3"
  },
  "language_info": {
   "codemirror_mode": {
    "name": "ipython",
    "version": 3
   },
   "file_extension": ".py",
   "mimetype": "text/x-python",
   "name": "python",
   "nbconvert_exporter": "python",
   "pygments_lexer": "ipython3",
   "version": "3.9.13"
  }
 },
 "nbformat": 4,
 "nbformat_minor": 5
}
